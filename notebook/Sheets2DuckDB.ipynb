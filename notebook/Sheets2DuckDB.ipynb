{
  "cells": [
    {
      "cell_type": "markdown",
      "metadata": {
        "id": "7CHvW7T0LXSe"
      },
      "source": [
        "# Instalar pacotes e configurar ambiente"
      ]
    },
    {
      "cell_type": "markdown",
      "metadata": {
        "id": "FO0w27UIM5OO"
      },
      "source": [
        "Baixa e instala pacotes necessários"
      ]
    },
    {
      "cell_type": "code",
      "execution_count": null,
      "metadata": {
        "id": "0EMNyzZAAovI"
      },
      "outputs": [],
      "source": [
        "!pip install --upgrade google-colab pandas gspread duckdb"
      ]
    },
    {
      "cell_type": "markdown",
      "metadata": {
        "id": "UQHbBzwPM-zZ"
      },
      "source": [
        "Importa as dependências"
      ]
    },
    {
      "cell_type": "code",
      "execution_count": 3,
      "metadata": {
        "id": "f0B-sUyLAvJr"
      },
      "outputs": [],
      "source": [
        "from google.colab import drive\n",
        "from google.colab import auth\n",
        "import gspread\n",
        "from google.auth import default\n",
        "import pandas as pd\n",
        "import duckdb\n",
        "import os"
      ]
    },
    {
      "cell_type": "markdown",
      "metadata": {
        "id": "v2rrgbvrNGoW"
      },
      "source": [
        "Conecta o Google Drive"
      ]
    },
    {
      "cell_type": "code",
      "execution_count": 4,
      "metadata": {
        "colab": {
          "base_uri": "https://localhost:8080/"
        },
        "id": "0BdrmPc6A5nv",
        "outputId": "977fb9ca-5c10-488f-a141-c5be10ad8430"
      },
      "outputs": [
        {
          "name": "stdout",
          "output_type": "stream",
          "text": [
            "Mounted at /content/drive\n"
          ]
        }
      ],
      "source": [
        "drive.mount('/content/drive', force_remount=True)"
      ]
    },
    {
      "cell_type": "markdown",
      "metadata": {
        "id": "ugFJov3pNO88"
      },
      "source": [
        "Define a variáveis da pasta de saída do arquivo Parquet e cria no Google Drive"
      ]
    },
    {
      "cell_type": "code",
      "execution_count": 5,
      "metadata": {
        "colab": {
          "base_uri": "https://localhost:8080/"
        },
        "id": "aCARD0TtEt6W",
        "outputId": "4fdb8100-1310-4497-dd6f-a301ddc05e2b"
      },
      "outputs": [
        {
          "name": "stdout",
          "output_type": "stream",
          "text": [
            "Pasta criada com sucesso!\n"
          ]
        }
      ],
      "source": [
        "output_folder = '/content/drive/MyDrive/Sheets2DuckDB/Output/Parquet'\n",
        "\n",
        "try:\n",
        "    os.makedirs(output_folder, exist_ok=True)\n",
        "    print(\"Pasta criada com sucesso!\")\n",
        "except OSError as e:\n",
        "    print(f\"Falha ao criar a pasta: {e}\")"
      ]
    },
    {
      "cell_type": "markdown",
      "metadata": {
        "id": "GAeUwXxNNURs"
      },
      "source": [
        "Autoriza a conexão com o Google Sheets"
      ]
    },
    {
      "cell_type": "code",
      "execution_count": 6,
      "metadata": {
        "id": "WLSMxtoP_DtF"
      },
      "outputs": [],
      "source": [
        "auth.authenticate_user()\n",
        "creds, _ = default()\n",
        "gc = gspread.authorize(creds)"
      ]
    },
    {
      "cell_type": "markdown",
      "metadata": {
        "id": "OtM8adSiLkaA"
      },
      "source": [
        "# Importar planilha do Google Sheets e criar Dataframe do resultado"
      ]
    },
    {
      "cell_type": "markdown",
      "metadata": {
        "id": "kwkBYIBzNoWx"
      },
      "source": [
        "Ingere dados da planilha do Google Sheets através da URL"
      ]
    },
    {
      "cell_type": "code",
      "execution_count": 7,
      "metadata": {
        "id": "9Sn3QkAcUz7f"
      },
      "outputs": [],
      "source": [
        "# Planilha de exemplo\n",
        "spreadsheet_url = 'https://docs.google.com/spreadsheets/d/1eWKSLabBJCQ99a7xTG3_Kt6fi_V4YJuspv8PbYUSWYM'\n",
        "spreadsheet = gc.open_by_url(spreadsheet_url)"
      ]
    },
    {
      "cell_type": "markdown",
      "metadata": {
        "id": "gUIe_Lu-NtCr"
      },
      "source": [
        "Importa dados da primeira aba da planilha"
      ]
    },
    {
      "cell_type": "code",
      "execution_count": 8,
      "metadata": {
        "id": "lkPmFotcG9_g"
      },
      "outputs": [],
      "source": [
        "worksheet = spreadsheet.get_worksheet(0)"
      ]
    },
    {
      "cell_type": "markdown",
      "metadata": {
        "id": "P7OUavBhN8JC"
      },
      "source": [
        "Cria um DataFrame da planilha e obtém todos os dados página de index(0)"
      ]
    },
    {
      "cell_type": "code",
      "execution_count": 9,
      "metadata": {
        "id": "O7bu3E0aFVlz"
      },
      "outputs": [],
      "source": [
        "df = pd.DataFrame(worksheet.get_all_records())"
      ]
    },
    {
      "cell_type": "markdown",
      "metadata": {
        "id": "2KmrBQNZLv_g"
      },
      "source": [
        "# Limpar dados e realizar agregações"
      ]
    },
    {
      "cell_type": "markdown",
      "metadata": {
        "id": "w08zkC7SKEsL"
      },
      "source": [
        "**Importante:** as transformações foram feitas na estrutura da planilha de exemplo\n"
      ]
    },
    {
      "cell_type": "markdown",
      "metadata": {
        "id": "HDfxcp4g9rJ2"
      },
      "source": [
        "Limpa dados, define formato, cria novas colunas de ANO e MÊS a partir da DATA"
      ]
    },
    {
      "cell_type": "code",
      "execution_count": 10,
      "metadata": {
        "id": "SicZ7Ipplei-"
      },
      "outputs": [],
      "source": [
        "df['DATA'] = pd.to_datetime(df['DATA'], format='%d/%m/%Y', errors='coerce')\n",
        "df['VALOR'] = df['VALOR'].str.replace('R\\$', '', regex=True).str.replace(',', '.', regex=True).str.replace(' ', '', regex=True)\n",
        "df['VALOR'] = df['VALOR'].astype(float)\n",
        "df['ANO'] = df['DATA'].dt.year\n",
        "df['ANO'].fillna(0, inplace=True)\n",
        "df['ANO'] = df['ANO'].astype(int)\n",
        "df['MES'] = df['DATA'].dt.month\n",
        "df['MES'].fillna(0, inplace=True)\n",
        "df['MES'] = df['MES'].astype(int)"
      ]
    },
    {
      "cell_type": "markdown",
      "metadata": {
        "id": "8LySK35c-PMO"
      },
      "source": [
        "Agrega por ANO, MÊS, TIPO e CATEGORIA, novo VALOR com a soma do resultado e apenas duas casas decimais, e cria a coluna ID como índice"
      ]
    },
    {
      "cell_type": "code",
      "execution_count": 11,
      "metadata": {
        "id": "E4rKKwXg2Bzb"
      },
      "outputs": [],
      "source": [
        "df_total_ano_mes_por_tipo_categoria = df.groupby(['ANO', 'MES', 'TIPO', 'CATEGORIA'])['VALOR'].sum().round(2).reset_index()\n",
        "df_total_ano_mes_por_tipo_categoria['ID'] = range(1, len(df_total_ano_mes_por_tipo_categoria) + 1)\n",
        "df_total_ano_mes_por_tipo_categoria = df_total_ano_mes_por_tipo_categoria[['ID', 'ANO', 'MES', 'TIPO', 'CATEGORIA', 'VALOR']]"
      ]
    },
    {
      "cell_type": "markdown",
      "metadata": {
        "id": "8x3v6jhqOoYb"
      },
      "source": [
        "# Salvar Dataframes em arquivo Parquet na pasta de saída do Google Drive"
      ]
    },
    {
      "cell_type": "markdown",
      "metadata": {
        "id": "uaVMm-1fakQ-"
      },
      "source": [
        "Cria e salva o DataFrame em um arquivo parquet na pasta \"output\" definida na variável"
      ]
    },
    {
      "cell_type": "code",
      "execution_count": 12,
      "metadata": {
        "id": "hK0dh82XNvpq"
      },
      "outputs": [],
      "source": [
        "df_total_ano_mes_por_tipo_categoria.to_parquet(f'{output_folder}/total_ano_mes_por_tipo_categoria.parquet')"
      ]
    },
    {
      "cell_type": "markdown",
      "metadata": {
        "id": "NtofqJqJBVXb"
      },
      "source": [
        "# DuckDB"
      ]
    },
    {
      "cell_type": "markdown",
      "metadata": {
        "id": "gbIDOachbXyx"
      },
      "source": [
        "# Criar banco de dados e tabela a partir do Parquet"
      ]
    },
    {
      "cell_type": "markdown",
      "metadata": {
        "id": "goXaOv0-Aa6D"
      },
      "source": [
        "Cria um banco de dados e uma conexão, importa o arquivo Parquet e cria uma tabela"
      ]
    },
    {
      "cell_type": "code",
      "execution_count": 13,
      "metadata": {
        "colab": {
          "base_uri": "https://localhost:8080/"
        },
        "id": "r2zRyg6UBSzL",
        "outputId": "b2ce2b84-ceae-4b30-cc75-25cb397dc805"
      },
      "outputs": [
        {
          "data": {
            "text/plain": [
              "<duckdb.DuckDBPyConnection at 0x7b21747d26f0>"
            ]
          },
          "execution_count": 13,
          "metadata": {},
          "output_type": "execute_result"
        }
      ],
      "source": [
        "con = duckdb.connect('sheets2duckdb.db')\n",
        "con.execute(f\"CREATE TABLE IF NOT EXISTS total_entrada_por_categoria AS SELECT * FROM read_parquet('{output_folder}/total_ano_mes_por_tipo_categoria.parquet')\")"
      ]
    },
    {
      "cell_type": "markdown",
      "metadata": {
        "id": "DansRb8ab3xm"
      },
      "source": [
        "Consulta a tabela criada"
      ]
    },
    {
      "cell_type": "code",
      "execution_count": 14,
      "metadata": {
        "colab": {
          "base_uri": "https://localhost:8080/"
        },
        "id": "8PFy09u0b7DZ",
        "outputId": "60dce45d-37f9-4ad8-ecaf-43df2036f3cf"
      },
      "outputs": [
        {
          "data": {
            "text/plain": [
              "┌───────┬───────┬───────┬─────────┬──────────────────┬─────────┐\n",
              "│  ID   │  ANO  │  MES  │  TIPO   │    CATEGORIA     │  VALOR  │\n",
              "│ int64 │ int64 │ int64 │ varchar │     varchar      │ double  │\n",
              "├───────┼───────┼───────┼─────────┼──────────────────┼─────────┤\n",
              "│     1 │  2023 │     5 │ ENTRADA │ MERCH            │   180.0 │\n",
              "│     2 │  2023 │     5 │ ENTRADA │ TATUAGEM         │  4666.0 │\n",
              "│     3 │  2023 │     5 │ SAIDA   │ INSUMOS ATELIE   │  203.98 │\n",
              "│     4 │  2023 │     5 │ SAIDA   │ MARKETING        │  239.41 │\n",
              "│     5 │  2023 │     5 │ SAIDA   │ MATERIAIS TATTOO │ 1384.72 │\n",
              "│     6 │  2023 │     6 │ ENTRADA │ MERCH            │   500.0 │\n",
              "│     7 │  2023 │     6 │ ENTRADA │ TATUAGEM         │ 3475.49 │\n",
              "│     8 │  2023 │     6 │ SAIDA   │ INSUMOS ATELIE   │  2683.7 │\n",
              "│     9 │  2023 │     6 │ SAIDA   │ MATERIAIS TATTOO │ 1049.43 │\n",
              "│    10 │  2023 │     7 │ ENTRADA │ MERCH            │   240.0 │\n",
              "│    11 │  2023 │     7 │ ENTRADA │ TATUAGEM         │ 2080.74 │\n",
              "│    12 │  2023 │     7 │ SAIDA   │ INSUMOS ATELIE   │ 2815.23 │\n",
              "│    13 │  2023 │     7 │ SAIDA   │ MARKETING        │   89.24 │\n",
              "│    14 │  2023 │     7 │ SAIDA   │ MATERIAIS TATTOO │ 1002.01 │\n",
              "│    15 │  2023 │     8 │ ENTRADA │ MERCH            │   900.0 │\n",
              "│    16 │  2023 │     8 │ ENTRADA │ TATUAGEM         │ 2911.99 │\n",
              "│    17 │  2023 │     8 │ SAIDA   │ INSUMOS ATELIE   │ 1230.56 │\n",
              "│    18 │  2023 │     8 │ SAIDA   │ MARKETING        │  366.74 │\n",
              "│    19 │  2023 │     8 │ SAIDA   │ MATERIAIS TATTOO │  219.24 │\n",
              "├───────┴───────┴───────┴─────────┴──────────────────┴─────────┤\n",
              "│ 19 rows                                            6 columns │\n",
              "└──────────────────────────────────────────────────────────────┘"
            ]
          },
          "execution_count": 14,
          "metadata": {},
          "output_type": "execute_result"
        }
      ],
      "source": [
        "con.query(\"SELECT * FROM total_entrada_por_categoria\")"
      ]
    }
  ],
  "metadata": {
    "colab": {
      "provenance": []
    },
    "kernelspec": {
      "display_name": "Python 3",
      "name": "python3"
    },
    "language_info": {
      "name": "python"
    }
  },
  "nbformat": 4,
  "nbformat_minor": 0
}
